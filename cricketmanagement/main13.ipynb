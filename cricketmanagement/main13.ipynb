{
 "cells": [
  {
   "cell_type": "code",
   "execution_count": null,
   "id": "3dae54bc",
   "metadata": {},
   "outputs": [
    {
     "name": "stdout",
     "output_type": "stream",
     "text": [
      "Welcome to IPL dataset analysis!\n",
      "      What do you want me to show based on all the matches of IPL till 2024:-\n",
      "      1. Check home ground stats of a particular team\n",
      "      2. See the standings of all the teams in a particular season\n",
      "      3. Check the stats of a team on a particular ground\n",
      "      4. Check all the information of a match using match id\n",
      "      5. Check the most win streak\n",
      "      6. Orange cap winner of an IPL Season\n",
      "      7. Purple cap winner of an IPL Season\n",
      "      8. Check the result of a match\n"
     ]
    }
   ],
   "source": [
    "import pandas as pd\n",
    "matches= pd.read_csv('C:\\\\Users\\\\Vinay Kumar Goyal\\\\OneDrive\\\\Desktop\\\\matches.csv')\n",
    "deliveries=pd.read_csv('C:\\\\Users\\\\Vinay Kumar Goyal\\\\OneDrive\\\\Desktop\\\\deliveries.csv')\n",
    "print('''Welcome to IPL dataset analysis!\n",
    "      What do you want me to show based on all the matches of IPL till 2024:-\n",
    "      1. Check home ground stats of a particular team\n",
    "      2. See the standings of all the teams in a particular season\n",
    "      3. Check the stats of a team on a particular ground\n",
    "      4. Check all the information of a match using match id\n",
    "      5. Check the most win streak\n",
    "      6. Orange cap winner of an IPL Season\n",
    "      7. Purple cap winner of an IPL Season\n",
    "      8. Check the result of a match''')\n",
    "ch= int(input('enter your choice:-  '))"
   ]
  }
 ],
 "metadata": {
  "kernelspec": {
   "display_name": "base",
   "language": "python",
   "name": "python3"
  },
  "language_info": {
   "codemirror_mode": {
    "name": "ipython",
    "version": 3
   },
   "file_extension": ".py",
   "mimetype": "text/x-python",
   "name": "python",
   "nbconvert_exporter": "python",
   "pygments_lexer": "ipython3",
   "version": "3.12.7"
  }
 },
 "nbformat": 4,
 "nbformat_minor": 5
}
